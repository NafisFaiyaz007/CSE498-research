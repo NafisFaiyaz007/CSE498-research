{
 "cells": [
  {
   "cell_type": "markdown",
   "id": "31cc08a9",
   "metadata": {},
   "source": [
    "# SMOTE the dataset. \n"
   ]
  },
  {
   "cell_type": "code",
   "execution_count": 9,
   "id": "dab527fa",
   "metadata": {},
   "outputs": [],
   "source": [
    "# install the following requirement if not installed\n",
    "# pip install imbalanced-learn"
   ]
  },
  {
   "cell_type": "code",
   "execution_count": 10,
   "id": "76efff97",
   "metadata": {},
   "outputs": [],
   "source": [
    "import numpy as np\n",
    "import pandas as pd\n",
    "from sklearn.datasets import make_classification\n",
    "from imblearn.over_sampling import SMOTE"
   ]
  },
  {
   "cell_type": "code",
   "execution_count": 11,
   "id": "d633f966",
   "metadata": {},
   "outputs": [],
   "source": [
    "trainSet = pd.read_csv(\"ScaledTrainSet.csv\")"
   ]
  },
  {
   "cell_type": "code",
   "execution_count": 12,
   "id": "467d3452",
   "metadata": {},
   "outputs": [],
   "source": [
    "# Initialize SMOTE\n",
    "smote = SMOTE(sampling_strategy='not majority')\n",
    "\n",
    "X_resampled = trainSet.drop(['alc'], axis=1)\n",
    "y_resampled = trainSet['alc']\n",
    "# Apply SMOTE to your dataset\n",
    "X_resampled, y_resampled = smote.fit_resample(X_resampled, y_resampled)"
   ]
  },
  {
   "cell_type": "code",
   "execution_count": null,
   "id": "f9b79a56",
   "metadata": {},
   "outputs": [],
   "source": []
  },
  {
   "cell_type": "code",
   "execution_count": 13,
   "id": "880bcd38",
   "metadata": {},
   "outputs": [
    {
     "data": {
      "text/plain": [
       "1.0    446\n",
       "0.0    446\n",
       "Name: alc, dtype: int64"
      ]
     },
     "execution_count": 13,
     "metadata": {},
     "output_type": "execute_result"
    }
   ],
   "source": [
    "y_resampled.value_counts()"
   ]
  },
  {
   "cell_type": "code",
   "execution_count": 14,
   "id": "55a3800c",
   "metadata": {},
   "outputs": [
    {
     "data": {
      "text/plain": [
       "0.0    446\n",
       "1.0    389\n",
       "Name: alc, dtype: int64"
      ]
     },
     "execution_count": 14,
     "metadata": {},
     "output_type": "execute_result"
    }
   ],
   "source": [
    "trainSet['alc'].value_counts()\n"
   ]
  },
  {
   "cell_type": "code",
   "execution_count": 15,
   "id": "820fea88",
   "metadata": {},
   "outputs": [],
   "source": [
    "smoteTrainSet=X_resampled.join(y_resampled)\n",
    "smoteTrainSet.to_csv('smoteTrainSet.csv',index=False)"
   ]
  },
  {
   "cell_type": "code",
   "execution_count": 16,
   "id": "1996dd45",
   "metadata": {},
   "outputs": [
    {
     "data": {
      "text/plain": [
       "Index(['sex_F', 'sex_M', 'famsize_GT3', 'famsize_LE3', 'Pstatus_A',\n",
       "       'Pstatus_T', 'Mjob_at_home', 'Mjob_health', 'Mjob_other',\n",
       "       'Mjob_services', 'Mjob_teacher', 'Fjob_at_home', 'Fjob_health',\n",
       "       'Fjob_other', 'Fjob_services', 'Fjob_teacher', 'guardian_father',\n",
       "       'guardian_mother', 'guardian_other', 'schoolsup_no', 'schoolsup_yes',\n",
       "       'famsup_no', 'famsup_yes', 'paid_no', 'paid_yes', 'activities_no',\n",
       "       'activities_yes', 'higher_no', 'higher_yes', 'romantic_no',\n",
       "       'romantic_yes', 'age', 'Medu', 'Fedu', 'studytime', 'failures',\n",
       "       'famrel', 'freetime', 'goout', 'health', 'absences', 'G1', 'G2', 'G3',\n",
       "       'alc'],\n",
       "      dtype='object')"
      ]
     },
     "execution_count": 16,
     "metadata": {},
     "output_type": "execute_result"
    }
   ],
   "source": [
    "smoteTrainSet.columns"
   ]
  },
  {
   "cell_type": "code",
   "execution_count": null,
   "id": "7c619f65",
   "metadata": {},
   "outputs": [],
   "source": []
  },
  {
   "cell_type": "code",
   "execution_count": null,
   "id": "d5758153",
   "metadata": {},
   "outputs": [],
   "source": []
  },
  {
   "cell_type": "code",
   "execution_count": null,
   "id": "ccbcc06b",
   "metadata": {},
   "outputs": [],
   "source": []
  },
  {
   "cell_type": "code",
   "execution_count": null,
   "id": "c433b7a8",
   "metadata": {},
   "outputs": [],
   "source": []
  }
 ],
 "metadata": {
  "kernelspec": {
   "display_name": "Python 3 (ipykernel)",
   "language": "python",
   "name": "python3"
  },
  "language_info": {
   "codemirror_mode": {
    "name": "ipython",
    "version": 3
   },
   "file_extension": ".py",
   "mimetype": "text/x-python",
   "name": "python",
   "nbconvert_exporter": "python",
   "pygments_lexer": "ipython3",
   "version": "3.9.13"
  }
 },
 "nbformat": 4,
 "nbformat_minor": 5
}
