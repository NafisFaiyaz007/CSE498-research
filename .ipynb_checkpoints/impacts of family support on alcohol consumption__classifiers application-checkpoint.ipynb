{
 "cells": [
  {
   "cell_type": "code",
   "execution_count": null,
   "id": "691df6e8",
   "metadata": {},
   "outputs": [],
   "source": []
  },
  {
   "cell_type": "markdown",
   "id": "7b5d4d25",
   "metadata": {},
   "source": [
    "## Research question\n",
    "\n",
    "### Does the quality of family relationships, parents' cohabitation status have an impact on alcohol consumption?\n",
    "\n",
    "selected columns::\n",
    "[['famsize_GT3', 'famsize_LE3', 'Pstatus_A', 'Pstatus_T', 'Mjob_at_home', 'Mjob_health', 'Mjob_other', 'Mjob_services', 'Mjob_teacher', 'Fjob_at_home', 'Fjob_health', 'Fjob_other', 'Fjob_services', 'Fjob_teacher', 'guardian_father', 'guardian_mother', 'guardian_other', 'famsup_no', 'famsup_yes', 'Medu', 'Fedu']]"
   ]
  },
  {
   "cell_type": "markdown",
   "id": "0faba631",
   "metadata": {},
   "source": [
    "# Best Classifiers\n",
    "\n",
    "## XGBoost\n",
    "### Train Acc= 0.9417040358744395\n",
    "### Test Acc= 0.7081339712918661\n",
    "\n",
    "## Random Forest\n",
    "### Train Acc= 0.952914798206278\n",
    "### Test Acc= 0.7511961722488039\n",
    "\n",
    "## Soft Voting\n",
    "### Test Acc= 0.7679372197309418\n",
    "### Train Acc= 0.6602870813397129\n",
    "\n",
    "## KNN(k=6)\n",
    "### Train Acc= 0.743274\n",
    "### Test Acc= 0.655502\n",
    "\n",
    "## Out of Bag on DecisionTree\n",
    "### Train Accuracy 0.952914798206278\n",
    "### Test Accuracy 0.7416267942583732\n",
    "### OOB Score 0.7982062780269058"
   ]
  },
  {
   "cell_type": "code",
   "execution_count": 2,
   "id": "0a795454",
   "metadata": {},
   "outputs": [
    {
     "ename": "ImportError",
     "evalue": "dlopen(/Users/mdnavedmeraz/opt/anaconda3/lib/python3.9/site-packages/scipy/sparse/linalg/_eigen/arpack/_arpack.cpython-39-darwin.so, 0x0002): Library not loaded: @rpath/libquadmath.0.dylib\n  Referenced from: <99DF54F4-B8F6-3977-BEB8-DE81BE05BDF7> /Users/mdnavedmeraz/opt/anaconda3/lib/libgfortran.5.dylib\n  Reason: tried: '/Users/mdnavedmeraz/opt/anaconda3/lib/libquadmath.0.dylib' (no such file), '/System/Volumes/Preboot/Cryptexes/OS/Users/mdnavedmeraz/opt/anaconda3/lib/libquadmath.0.dylib' (no such file), '/Users/mdnavedmeraz/opt/anaconda3/lib/libquadmath.0.dylib' (no such file), '/System/Volumes/Preboot/Cryptexes/OS/Users/mdnavedmeraz/opt/anaconda3/lib/libquadmath.0.dylib' (no such file), '/Users/mdnavedmeraz/opt/anaconda3/lib/libquadmath.0.dylib' (no such file), '/Users/mdnavedmeraz/opt/anaconda3/lib/python3.9/site-packages/scipy/sparse/linalg/_eigen/arpack/../../../../../../../libquadmath.0.dylib' (no such file), '/Users/mdnavedmeraz/opt/anaconda3/lib/python3.9/site-packages/scipy/sparse/linalg/_eigen/arpack/../../../../../../../libquadmath.0.dylib' (no such file), '/Users/mdnavedmeraz/opt/anaconda3/bin/../lib/libquadmath.0.dylib' (no such file), '/Users/mdnavedmeraz/opt/anaconda3/bin/../lib/libquadmath.0.dylib' (no such file), '/usr/local/lib/libquadmath.0.dylib' (no such file), '/usr/lib/libquadmath.0.dylib' (no such file, not in dyld cache)",
     "output_type": "error",
     "traceback": [
      "\u001b[0;31m---------------------------------------------------------------------------\u001b[0m",
      "\u001b[0;31mImportError\u001b[0m                               Traceback (most recent call last)",
      "\u001b[0;32m/var/folders/z9/mc87g0154b74svrcvhf1sn700000gn/T/ipykernel_1812/2228014702.py\u001b[0m in \u001b[0;36m<module>\u001b[0;34m\u001b[0m\n\u001b[1;32m      1\u001b[0m \u001b[0;32mimport\u001b[0m \u001b[0mpandas\u001b[0m \u001b[0;32mas\u001b[0m \u001b[0mpd\u001b[0m\u001b[0;34m\u001b[0m\u001b[0;34m\u001b[0m\u001b[0m\n\u001b[0;32m----> 2\u001b[0;31m \u001b[0;32mimport\u001b[0m \u001b[0mseaborn\u001b[0m \u001b[0;32mas\u001b[0m \u001b[0msns\u001b[0m\u001b[0;34m\u001b[0m\u001b[0;34m\u001b[0m\u001b[0m\n\u001b[0m\u001b[1;32m      3\u001b[0m \u001b[0;32mfrom\u001b[0m \u001b[0mmatplotlib\u001b[0m \u001b[0;32mimport\u001b[0m \u001b[0mpyplot\u001b[0m \u001b[0;32mas\u001b[0m \u001b[0mplt\u001b[0m\u001b[0;34m\u001b[0m\u001b[0;34m\u001b[0m\u001b[0m\n\u001b[1;32m      4\u001b[0m \u001b[0mget_ipython\u001b[0m\u001b[0;34m(\u001b[0m\u001b[0;34m)\u001b[0m\u001b[0;34m.\u001b[0m\u001b[0mrun_line_magic\u001b[0m\u001b[0;34m(\u001b[0m\u001b[0;34m'matplotlib'\u001b[0m\u001b[0;34m,\u001b[0m \u001b[0;34m'inline'\u001b[0m\u001b[0;34m)\u001b[0m\u001b[0;34m\u001b[0m\u001b[0;34m\u001b[0m\u001b[0m\n\u001b[1;32m      5\u001b[0m \u001b[0;32mfrom\u001b[0m \u001b[0msklearn\u001b[0m\u001b[0;34m.\u001b[0m\u001b[0mmetrics\u001b[0m \u001b[0;32mimport\u001b[0m \u001b[0mclassification_report\u001b[0m\u001b[0;34m,\u001b[0m \u001b[0maccuracy_score\u001b[0m\u001b[0;34m,\u001b[0m \u001b[0mconfusion_matrix\u001b[0m\u001b[0;34m\u001b[0m\u001b[0;34m\u001b[0m\u001b[0m\n",
      "\u001b[0;32m~/opt/anaconda3/lib/python3.9/site-packages/seaborn/__init__.py\u001b[0m in \u001b[0;36m<module>\u001b[0;34m\u001b[0m\n\u001b[1;32m      1\u001b[0m \u001b[0;31m# Import seaborn objects\u001b[0m\u001b[0;34m\u001b[0m\u001b[0;34m\u001b[0m\u001b[0m\n\u001b[0;32m----> 2\u001b[0;31m \u001b[0;32mfrom\u001b[0m \u001b[0;34m.\u001b[0m\u001b[0mrcmod\u001b[0m \u001b[0;32mimport\u001b[0m \u001b[0;34m*\u001b[0m  \u001b[0;31m# noqa: F401,F403\u001b[0m\u001b[0;34m\u001b[0m\u001b[0;34m\u001b[0m\u001b[0m\n\u001b[0m\u001b[1;32m      3\u001b[0m \u001b[0;32mfrom\u001b[0m \u001b[0;34m.\u001b[0m\u001b[0mutils\u001b[0m \u001b[0;32mimport\u001b[0m \u001b[0;34m*\u001b[0m  \u001b[0;31m# noqa: F401,F403\u001b[0m\u001b[0;34m\u001b[0m\u001b[0;34m\u001b[0m\u001b[0m\n\u001b[1;32m      4\u001b[0m \u001b[0;32mfrom\u001b[0m \u001b[0;34m.\u001b[0m\u001b[0mpalettes\u001b[0m \u001b[0;32mimport\u001b[0m \u001b[0;34m*\u001b[0m  \u001b[0;31m# noqa: F401,F403\u001b[0m\u001b[0;34m\u001b[0m\u001b[0;34m\u001b[0m\u001b[0m\n\u001b[1;32m      5\u001b[0m \u001b[0;32mfrom\u001b[0m \u001b[0;34m.\u001b[0m\u001b[0mrelational\u001b[0m \u001b[0;32mimport\u001b[0m \u001b[0;34m*\u001b[0m  \u001b[0;31m# noqa: F401,F403\u001b[0m\u001b[0;34m\u001b[0m\u001b[0;34m\u001b[0m\u001b[0m\n",
      "\u001b[0;32m~/opt/anaconda3/lib/python3.9/site-packages/seaborn/rcmod.py\u001b[0m in \u001b[0;36m<module>\u001b[0;34m\u001b[0m\n\u001b[1;32m      5\u001b[0m \u001b[0;32mimport\u001b[0m \u001b[0mmatplotlib\u001b[0m \u001b[0;32mas\u001b[0m \u001b[0mmpl\u001b[0m\u001b[0;34m\u001b[0m\u001b[0;34m\u001b[0m\u001b[0m\n\u001b[1;32m      6\u001b[0m \u001b[0;32mfrom\u001b[0m \u001b[0mcycler\u001b[0m \u001b[0;32mimport\u001b[0m \u001b[0mcycler\u001b[0m\u001b[0;34m\u001b[0m\u001b[0;34m\u001b[0m\u001b[0m\n\u001b[0;32m----> 7\u001b[0;31m \u001b[0;32mfrom\u001b[0m \u001b[0;34m.\u001b[0m \u001b[0;32mimport\u001b[0m \u001b[0mpalettes\u001b[0m\u001b[0;34m\u001b[0m\u001b[0;34m\u001b[0m\u001b[0m\n\u001b[0m\u001b[1;32m      8\u001b[0m \u001b[0;34m\u001b[0m\u001b[0m\n\u001b[1;32m      9\u001b[0m \u001b[0;34m\u001b[0m\u001b[0m\n",
      "\u001b[0;32m~/opt/anaconda3/lib/python3.9/site-packages/seaborn/palettes.py\u001b[0m in \u001b[0;36m<module>\u001b[0;34m\u001b[0m\n\u001b[1;32m      7\u001b[0m \u001b[0;32mfrom\u001b[0m \u001b[0;34m.\u001b[0m\u001b[0mexternal\u001b[0m \u001b[0;32mimport\u001b[0m \u001b[0mhusl\u001b[0m\u001b[0;34m\u001b[0m\u001b[0;34m\u001b[0m\u001b[0m\n\u001b[1;32m      8\u001b[0m \u001b[0;34m\u001b[0m\u001b[0m\n\u001b[0;32m----> 9\u001b[0;31m \u001b[0;32mfrom\u001b[0m \u001b[0;34m.\u001b[0m\u001b[0mutils\u001b[0m \u001b[0;32mimport\u001b[0m \u001b[0mdesaturate\u001b[0m\u001b[0;34m,\u001b[0m \u001b[0mget_color_cycle\u001b[0m\u001b[0;34m\u001b[0m\u001b[0;34m\u001b[0m\u001b[0m\n\u001b[0m\u001b[1;32m     10\u001b[0m \u001b[0;32mfrom\u001b[0m \u001b[0;34m.\u001b[0m\u001b[0mcolors\u001b[0m \u001b[0;32mimport\u001b[0m \u001b[0mxkcd_rgb\u001b[0m\u001b[0;34m,\u001b[0m \u001b[0mcrayons\u001b[0m\u001b[0;34m\u001b[0m\u001b[0;34m\u001b[0m\u001b[0m\n\u001b[1;32m     11\u001b[0m \u001b[0;34m\u001b[0m\u001b[0m\n",
      "\u001b[0;32m~/opt/anaconda3/lib/python3.9/site-packages/seaborn/utils.py\u001b[0m in \u001b[0;36m<module>\u001b[0;34m\u001b[0m\n\u001b[1;32m      8\u001b[0m \u001b[0;34m\u001b[0m\u001b[0m\n\u001b[1;32m      9\u001b[0m \u001b[0;32mimport\u001b[0m \u001b[0mnumpy\u001b[0m \u001b[0;32mas\u001b[0m \u001b[0mnp\u001b[0m\u001b[0;34m\u001b[0m\u001b[0;34m\u001b[0m\u001b[0m\n\u001b[0;32m---> 10\u001b[0;31m \u001b[0;32mfrom\u001b[0m \u001b[0mscipy\u001b[0m \u001b[0;32mimport\u001b[0m \u001b[0mstats\u001b[0m\u001b[0;34m\u001b[0m\u001b[0;34m\u001b[0m\u001b[0m\n\u001b[0m\u001b[1;32m     11\u001b[0m \u001b[0;32mimport\u001b[0m \u001b[0mpandas\u001b[0m \u001b[0;32mas\u001b[0m \u001b[0mpd\u001b[0m\u001b[0;34m\u001b[0m\u001b[0;34m\u001b[0m\u001b[0m\n\u001b[1;32m     12\u001b[0m \u001b[0;32mimport\u001b[0m \u001b[0mmatplotlib\u001b[0m \u001b[0;32mas\u001b[0m \u001b[0mmpl\u001b[0m\u001b[0;34m\u001b[0m\u001b[0;34m\u001b[0m\u001b[0m\n",
      "\u001b[0;32m~/opt/anaconda3/lib/python3.9/site-packages/scipy/__init__.py\u001b[0m in \u001b[0;36m__getattr__\u001b[0;34m(name)\u001b[0m\n\u001b[1;32m    209\u001b[0m     \u001b[0;32mdef\u001b[0m \u001b[0m__getattr__\u001b[0m\u001b[0;34m(\u001b[0m\u001b[0mname\u001b[0m\u001b[0;34m)\u001b[0m\u001b[0;34m:\u001b[0m\u001b[0;34m\u001b[0m\u001b[0;34m\u001b[0m\u001b[0m\n\u001b[1;32m    210\u001b[0m         \u001b[0;32mif\u001b[0m \u001b[0mname\u001b[0m \u001b[0;32min\u001b[0m \u001b[0msubmodules\u001b[0m\u001b[0;34m:\u001b[0m\u001b[0;34m\u001b[0m\u001b[0;34m\u001b[0m\u001b[0m\n\u001b[0;32m--> 211\u001b[0;31m             \u001b[0;32mreturn\u001b[0m \u001b[0m_importlib\u001b[0m\u001b[0;34m.\u001b[0m\u001b[0mimport_module\u001b[0m\u001b[0;34m(\u001b[0m\u001b[0;34mf'scipy.{name}'\u001b[0m\u001b[0;34m)\u001b[0m\u001b[0;34m\u001b[0m\u001b[0;34m\u001b[0m\u001b[0m\n\u001b[0m\u001b[1;32m    212\u001b[0m         \u001b[0;32melse\u001b[0m\u001b[0;34m:\u001b[0m\u001b[0;34m\u001b[0m\u001b[0;34m\u001b[0m\u001b[0m\n\u001b[1;32m    213\u001b[0m             \u001b[0;32mtry\u001b[0m\u001b[0;34m:\u001b[0m\u001b[0;34m\u001b[0m\u001b[0;34m\u001b[0m\u001b[0m\n",
      "\u001b[0;32m~/opt/anaconda3/lib/python3.9/importlib/__init__.py\u001b[0m in \u001b[0;36mimport_module\u001b[0;34m(name, package)\u001b[0m\n\u001b[1;32m    125\u001b[0m                 \u001b[0;32mbreak\u001b[0m\u001b[0;34m\u001b[0m\u001b[0;34m\u001b[0m\u001b[0m\n\u001b[1;32m    126\u001b[0m             \u001b[0mlevel\u001b[0m \u001b[0;34m+=\u001b[0m \u001b[0;36m1\u001b[0m\u001b[0;34m\u001b[0m\u001b[0;34m\u001b[0m\u001b[0m\n\u001b[0;32m--> 127\u001b[0;31m     \u001b[0;32mreturn\u001b[0m \u001b[0m_bootstrap\u001b[0m\u001b[0;34m.\u001b[0m\u001b[0m_gcd_import\u001b[0m\u001b[0;34m(\u001b[0m\u001b[0mname\u001b[0m\u001b[0;34m[\u001b[0m\u001b[0mlevel\u001b[0m\u001b[0;34m:\u001b[0m\u001b[0;34m]\u001b[0m\u001b[0;34m,\u001b[0m \u001b[0mpackage\u001b[0m\u001b[0;34m,\u001b[0m \u001b[0mlevel\u001b[0m\u001b[0;34m)\u001b[0m\u001b[0;34m\u001b[0m\u001b[0;34m\u001b[0m\u001b[0m\n\u001b[0m\u001b[1;32m    128\u001b[0m \u001b[0;34m\u001b[0m\u001b[0m\n\u001b[1;32m    129\u001b[0m \u001b[0;34m\u001b[0m\u001b[0m\n",
      "\u001b[0;32m~/opt/anaconda3/lib/python3.9/site-packages/scipy/stats/__init__.py\u001b[0m in \u001b[0;36m<module>\u001b[0;34m\u001b[0m\n\u001b[1;32m    465\u001b[0m from ._warnings_errors import (ConstantInputWarning, NearConstantInputWarning,\n\u001b[1;32m    466\u001b[0m                                DegenerateDataWarning, FitError)\n\u001b[0;32m--> 467\u001b[0;31m \u001b[0;32mfrom\u001b[0m \u001b[0;34m.\u001b[0m\u001b[0m_stats_py\u001b[0m \u001b[0;32mimport\u001b[0m \u001b[0;34m*\u001b[0m\u001b[0;34m\u001b[0m\u001b[0;34m\u001b[0m\u001b[0m\n\u001b[0m\u001b[1;32m    468\u001b[0m \u001b[0;32mfrom\u001b[0m \u001b[0;34m.\u001b[0m\u001b[0m_variation\u001b[0m \u001b[0;32mimport\u001b[0m \u001b[0mvariation\u001b[0m\u001b[0;34m\u001b[0m\u001b[0;34m\u001b[0m\u001b[0m\n\u001b[1;32m    469\u001b[0m \u001b[0;32mfrom\u001b[0m \u001b[0;34m.\u001b[0m\u001b[0mdistributions\u001b[0m \u001b[0;32mimport\u001b[0m \u001b[0;34m*\u001b[0m\u001b[0;34m\u001b[0m\u001b[0;34m\u001b[0m\u001b[0m\n",
      "\u001b[0;32m~/opt/anaconda3/lib/python3.9/site-packages/scipy/stats/_stats_py.py\u001b[0m in \u001b[0;36m<module>\u001b[0;34m\u001b[0m\n\u001b[1;32m     37\u001b[0m \u001b[0;32mfrom\u001b[0m \u001b[0mnumpy\u001b[0m\u001b[0;34m.\u001b[0m\u001b[0mtesting\u001b[0m \u001b[0;32mimport\u001b[0m \u001b[0msuppress_warnings\u001b[0m\u001b[0;34m\u001b[0m\u001b[0;34m\u001b[0m\u001b[0m\n\u001b[1;32m     38\u001b[0m \u001b[0;34m\u001b[0m\u001b[0m\n\u001b[0;32m---> 39\u001b[0;31m \u001b[0;32mfrom\u001b[0m \u001b[0mscipy\u001b[0m\u001b[0;34m.\u001b[0m\u001b[0mspatial\u001b[0m\u001b[0;34m.\u001b[0m\u001b[0mdistance\u001b[0m \u001b[0;32mimport\u001b[0m \u001b[0mcdist\u001b[0m\u001b[0;34m\u001b[0m\u001b[0;34m\u001b[0m\u001b[0m\n\u001b[0m\u001b[1;32m     40\u001b[0m \u001b[0;32mfrom\u001b[0m \u001b[0mscipy\u001b[0m\u001b[0;34m.\u001b[0m\u001b[0mndimage\u001b[0m \u001b[0;32mimport\u001b[0m \u001b[0m_measurements\u001b[0m\u001b[0;34m\u001b[0m\u001b[0;34m\u001b[0m\u001b[0m\n\u001b[1;32m     41\u001b[0m from scipy._lib._util import (check_random_state, MapWrapper,\n",
      "\u001b[0;32m~/opt/anaconda3/lib/python3.9/site-packages/scipy/spatial/__init__.py\u001b[0m in \u001b[0;36m<module>\u001b[0;34m\u001b[0m\n\u001b[1;32m    103\u001b[0m \"\"\"\n\u001b[1;32m    104\u001b[0m \u001b[0;34m\u001b[0m\u001b[0m\n\u001b[0;32m--> 105\u001b[0;31m \u001b[0;32mfrom\u001b[0m \u001b[0;34m.\u001b[0m\u001b[0m_kdtree\u001b[0m \u001b[0;32mimport\u001b[0m \u001b[0;34m*\u001b[0m\u001b[0;34m\u001b[0m\u001b[0;34m\u001b[0m\u001b[0m\n\u001b[0m\u001b[1;32m    106\u001b[0m \u001b[0;32mfrom\u001b[0m \u001b[0;34m.\u001b[0m\u001b[0m_ckdtree\u001b[0m \u001b[0;32mimport\u001b[0m \u001b[0;34m*\u001b[0m\u001b[0;34m\u001b[0m\u001b[0;34m\u001b[0m\u001b[0m\n\u001b[1;32m    107\u001b[0m \u001b[0;32mfrom\u001b[0m \u001b[0;34m.\u001b[0m\u001b[0m_qhull\u001b[0m \u001b[0;32mimport\u001b[0m \u001b[0;34m*\u001b[0m\u001b[0;34m\u001b[0m\u001b[0;34m\u001b[0m\u001b[0m\n",
      "\u001b[0;32m~/opt/anaconda3/lib/python3.9/site-packages/scipy/spatial/_kdtree.py\u001b[0m in \u001b[0;36m<module>\u001b[0;34m\u001b[0m\n\u001b[1;32m      3\u001b[0m \u001b[0;32mimport\u001b[0m \u001b[0mnumpy\u001b[0m \u001b[0;32mas\u001b[0m \u001b[0mnp\u001b[0m\u001b[0;34m\u001b[0m\u001b[0;34m\u001b[0m\u001b[0m\n\u001b[1;32m      4\u001b[0m \u001b[0;32mimport\u001b[0m \u001b[0mwarnings\u001b[0m\u001b[0;34m\u001b[0m\u001b[0;34m\u001b[0m\u001b[0m\n\u001b[0;32m----> 5\u001b[0;31m \u001b[0;32mfrom\u001b[0m \u001b[0;34m.\u001b[0m\u001b[0m_ckdtree\u001b[0m \u001b[0;32mimport\u001b[0m \u001b[0mcKDTree\u001b[0m\u001b[0;34m,\u001b[0m \u001b[0mcKDTreeNode\u001b[0m\u001b[0;34m\u001b[0m\u001b[0;34m\u001b[0m\u001b[0m\n\u001b[0m\u001b[1;32m      6\u001b[0m \u001b[0;34m\u001b[0m\u001b[0m\n\u001b[1;32m      7\u001b[0m __all__ = ['minkowski_distance_p', 'minkowski_distance',\n",
      "\u001b[0;32m_ckdtree.pyx\u001b[0m in \u001b[0;36minit scipy.spatial._ckdtree\u001b[0;34m()\u001b[0m\n",
      "\u001b[0;32m~/opt/anaconda3/lib/python3.9/site-packages/scipy/sparse/__init__.py\u001b[0m in \u001b[0;36m<module>\u001b[0;34m\u001b[0m\n\u001b[1;32m    281\u001b[0m \u001b[0;34m\u001b[0m\u001b[0m\n\u001b[1;32m    282\u001b[0m \u001b[0;31m# For backward compatibility with v0.19.\u001b[0m\u001b[0;34m\u001b[0m\u001b[0;34m\u001b[0m\u001b[0m\n\u001b[0;32m--> 283\u001b[0;31m \u001b[0;32mfrom\u001b[0m \u001b[0;34m.\u001b[0m \u001b[0;32mimport\u001b[0m \u001b[0mcsgraph\u001b[0m\u001b[0;34m\u001b[0m\u001b[0;34m\u001b[0m\u001b[0m\n\u001b[0m\u001b[1;32m    284\u001b[0m \u001b[0;34m\u001b[0m\u001b[0m\n\u001b[1;32m    285\u001b[0m \u001b[0;31m# Deprecated namespaces, to be removed in v2.0.0\u001b[0m\u001b[0;34m\u001b[0m\u001b[0;34m\u001b[0m\u001b[0m\n",
      "\u001b[0;32m~/opt/anaconda3/lib/python3.9/site-packages/scipy/sparse/csgraph/__init__.py\u001b[0m in \u001b[0;36m<module>\u001b[0;34m\u001b[0m\n\u001b[1;32m    180\u001b[0m            'NegativeCycleError']\n\u001b[1;32m    181\u001b[0m \u001b[0;34m\u001b[0m\u001b[0m\n\u001b[0;32m--> 182\u001b[0;31m \u001b[0;32mfrom\u001b[0m \u001b[0;34m.\u001b[0m\u001b[0m_laplacian\u001b[0m \u001b[0;32mimport\u001b[0m \u001b[0mlaplacian\u001b[0m\u001b[0;34m\u001b[0m\u001b[0;34m\u001b[0m\u001b[0m\n\u001b[0m\u001b[1;32m    183\u001b[0m from ._shortest_path import (\n\u001b[1;32m    184\u001b[0m     \u001b[0mshortest_path\u001b[0m\u001b[0;34m,\u001b[0m \u001b[0mfloyd_warshall\u001b[0m\u001b[0;34m,\u001b[0m \u001b[0mdijkstra\u001b[0m\u001b[0;34m,\u001b[0m \u001b[0mbellman_ford\u001b[0m\u001b[0;34m,\u001b[0m \u001b[0mjohnson\u001b[0m\u001b[0;34m,\u001b[0m\u001b[0;34m\u001b[0m\u001b[0;34m\u001b[0m\u001b[0m\n",
      "\u001b[0;32m~/opt/anaconda3/lib/python3.9/site-packages/scipy/sparse/csgraph/_laplacian.py\u001b[0m in \u001b[0;36m<module>\u001b[0;34m\u001b[0m\n\u001b[1;32m      5\u001b[0m \u001b[0;32mimport\u001b[0m \u001b[0mnumpy\u001b[0m \u001b[0;32mas\u001b[0m \u001b[0mnp\u001b[0m\u001b[0;34m\u001b[0m\u001b[0;34m\u001b[0m\u001b[0m\n\u001b[1;32m      6\u001b[0m \u001b[0;32mfrom\u001b[0m \u001b[0mscipy\u001b[0m\u001b[0;34m.\u001b[0m\u001b[0msparse\u001b[0m \u001b[0;32mimport\u001b[0m \u001b[0misspmatrix\u001b[0m\u001b[0;34m\u001b[0m\u001b[0;34m\u001b[0m\u001b[0m\n\u001b[0;32m----> 7\u001b[0;31m \u001b[0;32mfrom\u001b[0m \u001b[0mscipy\u001b[0m\u001b[0;34m.\u001b[0m\u001b[0msparse\u001b[0m\u001b[0;34m.\u001b[0m\u001b[0mlinalg\u001b[0m \u001b[0;32mimport\u001b[0m \u001b[0mLinearOperator\u001b[0m\u001b[0;34m\u001b[0m\u001b[0;34m\u001b[0m\u001b[0m\n\u001b[0m\u001b[1;32m      8\u001b[0m \u001b[0;34m\u001b[0m\u001b[0m\n\u001b[1;32m      9\u001b[0m \u001b[0;34m\u001b[0m\u001b[0m\n",
      "\u001b[0;32m~/opt/anaconda3/lib/python3.9/site-packages/scipy/sparse/linalg/__init__.py\u001b[0m in \u001b[0;36m<module>\u001b[0;34m\u001b[0m\n\u001b[1;32m    121\u001b[0m \u001b[0;32mfrom\u001b[0m \u001b[0;34m.\u001b[0m\u001b[0m_dsolve\u001b[0m \u001b[0;32mimport\u001b[0m \u001b[0;34m*\u001b[0m\u001b[0;34m\u001b[0m\u001b[0;34m\u001b[0m\u001b[0m\n\u001b[1;32m    122\u001b[0m \u001b[0;32mfrom\u001b[0m \u001b[0;34m.\u001b[0m\u001b[0m_interface\u001b[0m \u001b[0;32mimport\u001b[0m \u001b[0;34m*\u001b[0m\u001b[0;34m\u001b[0m\u001b[0;34m\u001b[0m\u001b[0m\n\u001b[0;32m--> 123\u001b[0;31m \u001b[0;32mfrom\u001b[0m \u001b[0;34m.\u001b[0m\u001b[0m_eigen\u001b[0m \u001b[0;32mimport\u001b[0m \u001b[0;34m*\u001b[0m\u001b[0;34m\u001b[0m\u001b[0;34m\u001b[0m\u001b[0m\n\u001b[0m\u001b[1;32m    124\u001b[0m \u001b[0;32mfrom\u001b[0m \u001b[0;34m.\u001b[0m\u001b[0m_matfuncs\u001b[0m \u001b[0;32mimport\u001b[0m \u001b[0;34m*\u001b[0m\u001b[0;34m\u001b[0m\u001b[0;34m\u001b[0m\u001b[0m\n\u001b[1;32m    125\u001b[0m \u001b[0;32mfrom\u001b[0m \u001b[0;34m.\u001b[0m\u001b[0m_onenormest\u001b[0m \u001b[0;32mimport\u001b[0m \u001b[0;34m*\u001b[0m\u001b[0;34m\u001b[0m\u001b[0;34m\u001b[0m\u001b[0m\n",
      "\u001b[0;32m~/opt/anaconda3/lib/python3.9/site-packages/scipy/sparse/linalg/_eigen/__init__.py\u001b[0m in \u001b[0;36m<module>\u001b[0;34m\u001b[0m\n\u001b[1;32m      7\u001b[0m \u001b[0;34m\u001b[0m\u001b[0m\n\u001b[1;32m      8\u001b[0m \"\"\"\n\u001b[0;32m----> 9\u001b[0;31m \u001b[0;32mfrom\u001b[0m \u001b[0;34m.\u001b[0m\u001b[0marpack\u001b[0m \u001b[0;32mimport\u001b[0m \u001b[0;34m*\u001b[0m\u001b[0;34m\u001b[0m\u001b[0;34m\u001b[0m\u001b[0m\n\u001b[0m\u001b[1;32m     10\u001b[0m \u001b[0;32mfrom\u001b[0m \u001b[0;34m.\u001b[0m\u001b[0mlobpcg\u001b[0m \u001b[0;32mimport\u001b[0m \u001b[0;34m*\u001b[0m\u001b[0;34m\u001b[0m\u001b[0;34m\u001b[0m\u001b[0m\n\u001b[1;32m     11\u001b[0m \u001b[0;32mfrom\u001b[0m \u001b[0;34m.\u001b[0m\u001b[0m_svds\u001b[0m \u001b[0;32mimport\u001b[0m \u001b[0msvds\u001b[0m\u001b[0;34m\u001b[0m\u001b[0;34m\u001b[0m\u001b[0m\n",
      "\u001b[0;32m~/opt/anaconda3/lib/python3.9/site-packages/scipy/sparse/linalg/_eigen/arpack/__init__.py\u001b[0m in \u001b[0;36m<module>\u001b[0;34m\u001b[0m\n\u001b[1;32m     18\u001b[0m \u001b[0;34m\u001b[0m\u001b[0m\n\u001b[1;32m     19\u001b[0m \"\"\"\n\u001b[0;32m---> 20\u001b[0;31m \u001b[0;32mfrom\u001b[0m \u001b[0;34m.\u001b[0m\u001b[0marpack\u001b[0m \u001b[0;32mimport\u001b[0m \u001b[0;34m*\u001b[0m\u001b[0;34m\u001b[0m\u001b[0;34m\u001b[0m\u001b[0m\n\u001b[0m",
      "\u001b[0;32m~/opt/anaconda3/lib/python3.9/site-packages/scipy/sparse/linalg/_eigen/arpack/arpack.py\u001b[0m in \u001b[0;36m<module>\u001b[0;34m\u001b[0m\n\u001b[1;32m     40\u001b[0m \u001b[0m__all__\u001b[0m \u001b[0;34m=\u001b[0m \u001b[0;34m[\u001b[0m\u001b[0;34m'eigs'\u001b[0m\u001b[0;34m,\u001b[0m \u001b[0;34m'eigsh'\u001b[0m\u001b[0;34m,\u001b[0m \u001b[0;34m'ArpackError'\u001b[0m\u001b[0;34m,\u001b[0m \u001b[0;34m'ArpackNoConvergence'\u001b[0m\u001b[0;34m]\u001b[0m\u001b[0;34m\u001b[0m\u001b[0;34m\u001b[0m\u001b[0m\n\u001b[1;32m     41\u001b[0m \u001b[0;34m\u001b[0m\u001b[0m\n\u001b[0;32m---> 42\u001b[0;31m \u001b[0;32mfrom\u001b[0m \u001b[0;34m.\u001b[0m \u001b[0;32mimport\u001b[0m \u001b[0m_arpack\u001b[0m\u001b[0;34m\u001b[0m\u001b[0;34m\u001b[0m\u001b[0m\n\u001b[0m\u001b[1;32m     43\u001b[0m \u001b[0marpack_int\u001b[0m \u001b[0;34m=\u001b[0m \u001b[0m_arpack\u001b[0m\u001b[0;34m.\u001b[0m\u001b[0mtiming\u001b[0m\u001b[0;34m.\u001b[0m\u001b[0mnbx\u001b[0m\u001b[0;34m.\u001b[0m\u001b[0mdtype\u001b[0m\u001b[0;34m\u001b[0m\u001b[0;34m\u001b[0m\u001b[0m\n\u001b[1;32m     44\u001b[0m \u001b[0;34m\u001b[0m\u001b[0m\n",
      "\u001b[0;31mImportError\u001b[0m: dlopen(/Users/mdnavedmeraz/opt/anaconda3/lib/python3.9/site-packages/scipy/sparse/linalg/_eigen/arpack/_arpack.cpython-39-darwin.so, 0x0002): Library not loaded: @rpath/libquadmath.0.dylib\n  Referenced from: <99DF54F4-B8F6-3977-BEB8-DE81BE05BDF7> /Users/mdnavedmeraz/opt/anaconda3/lib/libgfortran.5.dylib\n  Reason: tried: '/Users/mdnavedmeraz/opt/anaconda3/lib/libquadmath.0.dylib' (no such file), '/System/Volumes/Preboot/Cryptexes/OS/Users/mdnavedmeraz/opt/anaconda3/lib/libquadmath.0.dylib' (no such file), '/Users/mdnavedmeraz/opt/anaconda3/lib/libquadmath.0.dylib' (no such file), '/System/Volumes/Preboot/Cryptexes/OS/Users/mdnavedmeraz/opt/anaconda3/lib/libquadmath.0.dylib' (no such file), '/Users/mdnavedmeraz/opt/anaconda3/lib/libquadmath.0.dylib' (no such file), '/Users/mdnavedmeraz/opt/anaconda3/lib/python3.9/site-packages/scipy/sparse/linalg/_eigen/arpack/../../../../../../../libquadmath.0.dylib' (no such file), '/Users/mdnavedmeraz/opt/anaconda3/lib/python3.9/site-packages/scipy/sparse/linalg/_eigen/arpack/../../../../../../../libquadmath.0.dylib' (no such file), '/Users/mdnavedmeraz/opt/anaconda3/bin/../lib/libquadmath.0.dylib' (no such file), '/Users/mdnavedmeraz/opt/anaconda3/bin/../lib/libquadmath.0.dylib' (no such file), '/usr/local/lib/libquadmath.0.dylib' (no such file), '/usr/lib/libquadmath.0.dylib' (no such file, not in dyld cache)"
     ]
    }
   ],
   "source": [
    "import pandas as pd\n",
    "import seaborn as sns\n",
    "from matplotlib import pyplot as plt\n",
    "%matplotlib inline\n",
    "from sklearn.metrics import classification_report, accuracy_score, confusion_matrix\n",
    "import scikitplot as skplt\n",
    "\n",
    "\n",
    "\n",
    "from sklearn import set_config\n",
    "set_config(transform_output = \"pandas\")"
   ]
  },
  {
   "cell_type": "markdown",
   "id": "20d6fc0c",
   "metadata": {},
   "source": [
    "## Function to save figures"
   ]
  },
  {
   "cell_type": "code",
   "execution_count": 3,
   "id": "deaf45b6",
   "metadata": {},
   "outputs": [],
   "source": [
    "from pathlib import Path\n",
    "IMAGES_PATH = Path() / \"images/question 3\"\n",
    "IMAGES_PATH.mkdir(parents=True, exist_ok=True)\n",
    "\n",
    "def save_fig(fig_id, tight_layout=True, fig_extension=\"png\", resolution=300):\n",
    "    path = IMAGES_PATH / f\"{fig_id}.{fig_extension}\"\n",
    "    if tight_layout:\n",
    "        plt.tight_layout()\n",
    "    plt.savefig(path, format=fig_extension, dpi=resolution)"
   ]
  },
  {
   "cell_type": "code",
   "execution_count": null,
   "id": "3e75856d",
   "metadata": {},
   "outputs": [],
   "source": [
    "# Import train and test sets\n",
    "X_train = pd.read_csv('smoteTrainSet.csv')\n",
    "X_test = pd.read_csv('ScaledTestSet.csv')"
   ]
  },
  {
   "cell_type": "code",
   "execution_count": null,
   "id": "1e84fb7a",
   "metadata": {},
   "outputs": [],
   "source": [
    "X_train.columns"
   ]
  },
  {
   "cell_type": "code",
   "execution_count": null,
   "id": "055b500b",
   "metadata": {},
   "outputs": [],
   "source": [
    "X_train.shape"
   ]
  },
  {
   "cell_type": "code",
   "execution_count": null,
   "id": "8f33c5bd",
   "metadata": {},
   "outputs": [],
   "source": [
    "# Separate target from dataset\n",
    "y_train = X_train['alc']\n",
    "X_train = X_train.drop(columns = ['alc'])\n",
    "##X_train = X_train[['famsize_GT3', 'Pstatus_A', 'Mjob_at_home', 'Mjob_health', 'Mjob_other', 'Mjob_services', 'Mjob_teacher', 'Fjob_at_home', 'Fjob_health', 'Fjob_other', 'Fjob_services', 'Fjob_teacher', 'guardian_father', 'guardian_mother', 'guardian_other', 'famsup_yes', 'Medu', 'Fedu', 'famrel']] \n",
    "#[['famsize_GT3', 'famsize_LE3', 'Pstatus_A', 'Pstatus_T', 'Mjob_at_home', 'Mjob_health', 'Mjob_other', 'Mjob_services', 'Mjob_teacher', 'Fjob_at_home', 'Fjob_health', 'Fjob_other', 'Fjob_services', 'Fjob_teacher', 'guardian_father', 'guardian_mother', 'guardian_other', 'famsup_no', 'famsup_yes', 'Medu', 'Fedu']] \n",
    "y_test = X_test['alc']\n",
    "##X_test = X_test[['famsize_GT3', 'Pstatus_A', 'Mjob_at_home', 'Mjob_health', 'Mjob_other', 'Mjob_services', 'Mjob_teacher', 'Fjob_at_home', 'Fjob_health', 'Fjob_other', 'Fjob_services', 'Fjob_teacher', 'guardian_father', 'guardian_mother', 'guardian_other', 'famsup_yes', 'Medu', 'Fedu', 'famrel']] \n",
    "X_test = X_test.drop(columns = 'alc')"
   ]
  },
  {
   "cell_type": "code",
   "execution_count": null,
   "id": "4989c49c",
   "metadata": {},
   "outputs": [],
   "source": [
    "y_train.value_counts()"
   ]
  },
  {
   "cell_type": "markdown",
   "id": "0833374e",
   "metadata": {},
   "source": [
    "## 0R classifier"
   ]
  },
  {
   "cell_type": "code",
   "execution_count": null,
   "id": "8bd3d238",
   "metadata": {},
   "outputs": [],
   "source": [
    "from sklearn.dummy import DummyClassifier\n",
    "dummy = DummyClassifier(strategy = \"most_frequent\")\n",
    "\n"
   ]
  },
  {
   "cell_type": "code",
   "execution_count": null,
   "id": "d571d81f",
   "metadata": {},
   "outputs": [],
   "source": [
    "dummy.fit(X_train,y_train)"
   ]
  },
  {
   "cell_type": "code",
   "execution_count": null,
   "id": "2e13aad5",
   "metadata": {},
   "outputs": [],
   "source": [
    "from sklearn.metrics import accuracy_score\n",
    "print('Train Accuracy', accuracy_score(y_train, dummy.predict(X_train)))\n",
    "print('Test Accuracy', accuracy_score(y_test, dummy.predict(X_test)))"
   ]
  },
  {
   "cell_type": "markdown",
   "id": "5c0cb187",
   "metadata": {},
   "source": [
    "## Finding suitable value of k for KNN"
   ]
  },
  {
   "cell_type": "code",
   "execution_count": null,
   "id": "079f7969",
   "metadata": {},
   "outputs": [],
   "source": [
    "from sklearn.model_selection import GridSearchCV\n",
    "from sklearn.neighbors import KNeighborsClassifier"
   ]
  },
  {
   "cell_type": "code",
   "execution_count": null,
   "id": "69aee2d7",
   "metadata": {},
   "outputs": [],
   "source": [
    "k = range(2, 50)\n",
    "train_acc = []\n",
    "test_acc = []\n",
    "neighbors = []\n",
    "\n",
    "for i in k:\n",
    "    neighbors.append(i)\n",
    "    model = KNeighborsClassifier(n_neighbors = i)\n",
    "    model.fit(X_train, y_train)\n",
    "    train_acc.append(accuracy_score(y_train, model.predict(X_train)))\n",
    "    test_acc.append(accuracy_score(y_test, model.predict(X_test)))\n",
    "\n",
    "plt.figure(figsize = (8,6))\n",
    "plt.xlabel('K')\n",
    "plt.ylabel('Accuracy')\n",
    "plt.title('Variation of Accuracy with k')\n",
    "plt.plot(neighbors, train_acc, color = 'blue', linewidth = 1,\n",
    "         label = 'train accuracy');\n",
    "\n",
    "plt.plot(neighbors, test_acc, color = 'red', linewidth = 2,\n",
    "         label = 'test accuracy')\n",
    "plt.legend()\n",
    "save_fig('Accuracy against k')\n",
    "plt.show();"
   ]
  },
  {
   "cell_type": "code",
   "execution_count": null,
   "id": "4be8c751",
   "metadata": {},
   "outputs": [],
   "source": [
    "pd.DataFrame({'K': neighbors, 'Train Acc': train_acc, 'Test Acc': test_acc})"
   ]
  },
  {
   "cell_type": "markdown",
   "id": "6465fcb5",
   "metadata": {},
   "source": [
    "## Applying suitable value of k in KNN Classifier"
   ]
  },
  {
   "cell_type": "code",
   "execution_count": null,
   "id": "5df665c5",
   "metadata": {},
   "outputs": [],
   "source": [
    "best_grid_knn= KNeighborsClassifier(n_neighbors=6)\n",
    "best_grid_knn.fit(X_train, y_train)"
   ]
  },
  {
   "cell_type": "code",
   "execution_count": null,
   "id": "f6252d8a",
   "metadata": {
    "scrolled": true
   },
   "outputs": [],
   "source": [
    "best_grid_knn.fit(X_train, y_train)\n",
    "y_pred=best_grid_knn.predict(X_test)\n",
    "print(confusion_matrix(y_test,y_pred))\n",
    "skplt.metrics.plot_confusion_matrix(y_test, y_pred);\n",
    "save_fig('Test Set Confusion Matrix for KNN hyper-para tuned q3')\n",
    "print(\"Accuracy Score {}\".format(accuracy_score(y_test,y_pred)))\n",
    "print(\"Classification report: {}\".format(classification_report(y_test,y_pred)))"
   ]
  },
  {
   "cell_type": "code",
   "execution_count": null,
   "id": "1e13f3d8",
   "metadata": {},
   "outputs": [],
   "source": [
    "print(\"Classification Report for Train Set\")\n",
    "print(\"Accuracy Score {}\".format(accuracy_score(y_train, best_grid_knn.predict(X_train).round (3))))\n",
    "print(classification_report (y_train, best_grid_knn.predict(X_train)))\n",
    "skplt.metrics.plot_confusion_matrix(y_train, best_grid_knn.predict(X_train));\n",
    "save_fig('Train Set Confusion Matrix train for KNN hyper-para tuned q3')"
   ]
  },
  {
   "cell_type": "markdown",
   "id": "9b89b674",
   "metadata": {},
   "source": [
    "## Hyperparameter Tuning on Decision Tree"
   ]
  },
  {
   "cell_type": "code",
   "execution_count": null,
   "id": "324bee82",
   "metadata": {},
   "outputs": [],
   "source": [
    "from sklearn import tree\n",
    "from sklearn.tree import DecisionTreeClassifier\n"
   ]
  },
  {
   "cell_type": "code",
   "execution_count": null,
   "id": "2cf6fc45",
   "metadata": {},
   "outputs": [],
   "source": [
    "param_grid = {\n",
    "    'criterion' : ['gini'],\n",
    "    'max_depth' : range(2,4),\n",
    "}"
   ]
  },
  {
   "cell_type": "code",
   "execution_count": null,
   "id": "040cf881",
   "metadata": {},
   "outputs": [],
   "source": [
    "dt_grid = DecisionTreeClassifier()\n",
    "grid_search_dt = GridSearchCV(estimator=dt_grid,param_grid=param_grid,cv=10,n_jobs=-1,verbose=2)\n",
    "grid_search_dt.fit(X_train,y_train)"
   ]
  },
  {
   "cell_type": "code",
   "execution_count": null,
   "id": "b5bfe277",
   "metadata": {},
   "outputs": [],
   "source": [
    "best_grid_dt = grid_search_dt.best_estimator_\n",
    "best_grid_dt"
   ]
  },
  {
   "cell_type": "markdown",
   "id": "e615d02f",
   "metadata": {},
   "source": [
    "## Appying best estimators on Decision Tree"
   ]
  },
  {
   "cell_type": "code",
   "execution_count": null,
   "id": "8d814597",
   "metadata": {},
   "outputs": [],
   "source": [
    "best_grid_dt.fit(X_train, y_train)\n",
    "y_pred=best_grid_dt.predict(X_test)\n",
    "print(confusion_matrix(y_test,y_pred))\n",
    "skplt.metrics.plot_confusion_matrix(y_test, y_pred);\n",
    "save_fig('Confusion Matrix for Descision_Tree hyper-para tuned q3')\n",
    "print(\"Accuracy Score {}\".format(accuracy_score(y_test,y_pred)))\n",
    "print(\"Classification report: \\n{}\".format(classification_report(y_test,y_pred)))"
   ]
  },
  {
   "cell_type": "code",
   "execution_count": null,
   "id": "efac0355",
   "metadata": {},
   "outputs": [],
   "source": [
    "fig = plt.figure(figsize=(25,20))\n",
    "_ = tree.plot_tree(best_grid_dt, \n",
    "                   feature_names=X_train.columns.values.tolist(),  \n",
    "                   class_names=y_train.name,\n",
    "                   filled=True)"
   ]
  },
  {
   "cell_type": "code",
   "execution_count": null,
   "id": "d02b14f8",
   "metadata": {},
   "outputs": [],
   "source": [
    "fig.savefig(\"decision_tree Q3.png\")"
   ]
  },
  {
   "cell_type": "code",
   "execution_count": null,
   "id": "0c4c348e",
   "metadata": {},
   "outputs": [],
   "source": [
    "train_acc = []\n",
    "test_acc = []\n",
    "max_depth =[]\n",
    "\n",
    "for depth in range(1, 30):\n",
    "    clf = DecisionTreeClassifier(max_depth = depth)\n",
    "    clf.fit(X_train, y_train)\n",
    "    train_acc.append(accuracy_score(y_train, clf.predict(X_train)).round(3))\n",
    "    test_acc.append(accuracy_score(y_test, clf.predict(X_test)).round(3))\n",
    "    max_depth.append(depth)\n",
    "\n",
    "for i in range(1, 30):\n",
    "    print('Max Depth = ', i, ', Train Acc. = ', train_acc[i-1], ', Test Acc. = ' ,\n",
    "         test_acc[i-1])\n",
    "\n",
    "plt.figure(figsize = (8,6))\n",
    "plt.xlabel('Max-Depth')\n",
    "plt.ylabel('Accuracy')\n",
    "plt.title('Variation of Accuracy with Max-Depth')\n",
    "plt.plot(max_depth, train_acc, color = 'blue', linewidth = 1,\n",
    "         label = 'train accuracy');\n",
    "\n",
    "plt.plot(max_depth, test_acc, color = 'red', linewidth = 2,\n",
    "         label = 'test accuracy')\n",
    "plt.legend()\n",
    "save_fig('Accuracy against max_depth')\n",
    "plt.show();"
   ]
  },
  {
   "cell_type": "code",
   "execution_count": null,
   "id": "b98f59f1",
   "metadata": {},
   "outputs": [],
   "source": [
    "# Confusion matrix for train set\n",
    "print(\"Confusion Matrix for Train Set\")\n",
    "pd. DataFrame (confusion_matrix(y_train, best_grid_dt.predict(X_train)))\n"
   ]
  },
  {
   "cell_type": "code",
   "execution_count": null,
   "id": "d4b3b99a",
   "metadata": {},
   "outputs": [],
   "source": []
  },
  {
   "cell_type": "code",
   "execution_count": null,
   "id": "47aa19c9",
   "metadata": {},
   "outputs": [],
   "source": [
    "# Confusion matrix for test set\n",
    "print(\"Confusion Matrix for Test Set\")\n",
    "pd. DataFrame (confusion_matrix(y_test, best_grid_dt.predict(X_test)))"
   ]
  },
  {
   "cell_type": "code",
   "execution_count": null,
   "id": "e9fc55b4",
   "metadata": {},
   "outputs": [],
   "source": [
    "print(\"Classification Report for Train Set\")\n",
    "print(classification_report (y_train, best_grid_dt.predict(X_train).round (3)))"
   ]
  },
  {
   "cell_type": "code",
   "execution_count": null,
   "id": "d12d6e07",
   "metadata": {},
   "outputs": [],
   "source": [
    "print(\"Classification Report for Test Set\")\n",
    "print(classification_report(y_test, best_grid_dt.predict (X_test). round(3)))"
   ]
  },
  {
   "cell_type": "markdown",
   "id": "87e2a770",
   "metadata": {},
   "source": [
    "## Hyperparameter Tuning on Random Forest"
   ]
  },
  {
   "cell_type": "code",
   "execution_count": null,
   "id": "9919ffa4",
   "metadata": {},
   "outputs": [],
   "source": [
    "from sklearn.ensemble import RandomForestClassifier\n",
    "from sklearn.model_selection import GridSearchCV\n"
   ]
  },
  {
   "cell_type": "code",
   "execution_count": null,
   "id": "5cb35714",
   "metadata": {},
   "outputs": [],
   "source": [
    "param_grid= {\n",
    "    'n_estimators': [10, 50, 100, 500],\n",
    "    'criterion': ['gini', 'entropy', 'log_loss'],\n",
    "    'max_depth': [None, 10, 30, 100],\n",
    "    'max_features': [None, 'sqrt', 'log2']\n",
    "}"
   ]
  },
  {
   "cell_type": "markdown",
   "id": "b699bfe6",
   "metadata": {},
   "source": [
    "param_grid= {\n",
    "    'n_estimators': [10]\n",
    "}"
   ]
  },
  {
   "cell_type": "code",
   "execution_count": null,
   "id": "d4442b22",
   "metadata": {},
   "outputs": [],
   "source": [
    "rf_grid = RandomForestClassifier()\n",
    "grid_search_rf = GridSearchCV(estimator=rf_grid,param_grid=param_grid,cv=10,n_jobs=-1,verbose=2)\n",
    "grid_search_rf.fit(X_train,y_train)"
   ]
  },
  {
   "cell_type": "code",
   "execution_count": null,
   "id": "cdd31323",
   "metadata": {},
   "outputs": [],
   "source": [
    "# Finding out the best estimator\n",
    "best_grid_rf = grid_search_rf.best_estimator_\n",
    "best_grid_rf"
   ]
  },
  {
   "cell_type": "markdown",
   "id": "e6dc1b3e",
   "metadata": {},
   "source": [
    "## Applying best estimators in Random Forest"
   ]
  },
  {
   "cell_type": "code",
   "execution_count": null,
   "id": "4e7fa451",
   "metadata": {},
   "outputs": [],
   "source": [
    "best_grid_rf.fit(X_train, y_train)"
   ]
  },
  {
   "cell_type": "markdown",
   "id": "983cbc16",
   "metadata": {},
   "source": [
    "### Train"
   ]
  },
  {
   "cell_type": "code",
   "execution_count": null,
   "id": "ed1a2d42",
   "metadata": {},
   "outputs": [],
   "source": [
    "y_pred=best_grid_rf.predict(X_train)\n",
    "print(confusion_matrix(y_train,y_pred))\n",
    "skplt.metrics.plot_confusion_matrix(y_train, y_pred, cmap='Blues');\n",
    "save_fig('Train Set Confusion Matrix for Random Forest hyper-para tuned q3')\n",
    "print(\"Accuracy Score {}\".format(accuracy_score(y_train,y_pred)))\n",
    "print(\"Classification report: \\n{}\".format(classification_report(y_train,y_pred)))"
   ]
  },
  {
   "cell_type": "markdown",
   "id": "bb437e1e",
   "metadata": {},
   "source": [
    "### Test"
   ]
  },
  {
   "cell_type": "code",
   "execution_count": null,
   "id": "d22b4a01",
   "metadata": {},
   "outputs": [],
   "source": [
    "y_pred = best_grid_rf.predict(X_test)\n",
    "print(confusion_matrix(y_test,y_pred))\n",
    "print(\"Accuracy Score {}\".format(accuracy_score(y_test,y_pred)))\n",
    "print(\"Classification report: \\n{}\".format(classification_report(y_test,y_pred)))"
   ]
  },
  {
   "cell_type": "code",
   "execution_count": null,
   "id": "c2bf188a",
   "metadata": {},
   "outputs": [],
   "source": [
    "skplt.metrics.plot_confusion_matrix(y_test, y_pred);\n",
    "save_fig('Test Set Confusion Matrix for Random forest hyper-para tuned q3')"
   ]
  },
  {
   "cell_type": "code",
   "execution_count": null,
   "id": "90ba72bf",
   "metadata": {},
   "outputs": [],
   "source": [
    "y_probas = best_grid_rf.predict_proba(X_test)\n",
    "skplt.metrics.plot_roc(y_test, y_probas, plot_micro = False, plot_macro = False)\n",
    "save_fig('ROC Curve-Random Forest Q3')\n",
    "plt.show();"
   ]
  },
  {
   "cell_type": "markdown",
   "id": "adcab5f0",
   "metadata": {},
   "source": [
    "## Hyperparameter Tuning on Logistic Regression"
   ]
  },
  {
   "cell_type": "code",
   "execution_count": null,
   "id": "bbd67b5d",
   "metadata": {},
   "outputs": [],
   "source": [
    "from sklearn.linear_model import LogisticRegression"
   ]
  },
  {
   "cell_type": "code",
   "execution_count": null,
   "id": "3766ec2f",
   "metadata": {},
   "outputs": [],
   "source": [
    "param_grid = {\n",
    "    'penalty' : ['l1', 'l2', 'elasticnet', None],\n",
    "    'random_state' : ['42', None],\n",
    "    'solver' : ['lbfgs', 'liblinear', 'newton-cg', 'newton-cholesky', 'sag', 'saga']\n",
    "}"
   ]
  },
  {
   "cell_type": "code",
   "execution_count": null,
   "id": "55067678",
   "metadata": {},
   "outputs": [],
   "source": [
    "lr_grid = LogisticRegression()\n",
    "grid_search_lr = GridSearchCV(estimator=lr_grid,param_grid=param_grid,cv=10,n_jobs=-1,verbose=2)\n",
    "grid_search_lr.fit(X_train,y_train)"
   ]
  },
  {
   "cell_type": "code",
   "execution_count": null,
   "id": "a8422132",
   "metadata": {},
   "outputs": [],
   "source": [
    "best_grid_lr = grid_search_lr.best_estimator_\n",
    "best_grid_lr"
   ]
  },
  {
   "cell_type": "code",
   "execution_count": null,
   "id": "d37cb601",
   "metadata": {},
   "outputs": [],
   "source": [
    "# Applying the best grid for logistic regression\n",
    "best_grid_lr.fit(X_train, y_train)"
   ]
  },
  {
   "cell_type": "markdown",
   "id": "86005685",
   "metadata": {},
   "source": [
    "### Train Set"
   ]
  },
  {
   "cell_type": "code",
   "execution_count": null,
   "id": "ec7450f7",
   "metadata": {},
   "outputs": [],
   "source": [
    "y_pred=best_grid_lr.predict(X_train)\n",
    "print(confusion_matrix(y_train,y_pred))\n",
    "skplt.metrics.plot_confusion_matrix(y_train, y_pred);\n",
    "save_fig('Train Set Confusion Matrix for Logistic Regression hyper-para tuned q3')\n",
    "print(\"Accuracy Score {}\".format(accuracy_score(y_train,y_pred)))\n",
    "print(\"Classification report: \\n{}\".format(classification_report(y_train,y_pred)))"
   ]
  },
  {
   "cell_type": "markdown",
   "id": "9fad639a",
   "metadata": {},
   "source": [
    "### Test Set"
   ]
  },
  {
   "cell_type": "code",
   "execution_count": null,
   "id": "5a623fd1",
   "metadata": {},
   "outputs": [],
   "source": [
    "y_pred=best_grid_lr.predict(X_test)\n",
    "print(confusion_matrix(y_test,y_pred))\n",
    "skplt.metrics.plot_confusion_matrix(y_test, y_pred);\n",
    "save_fig('Test Set Confusion Matrix for Logistic Regression hyper-para tuned q3')\n",
    "print(\"Accuracy Score {}\".format(accuracy_score(y_test,y_pred)))\n",
    "print(\"Classification report: \\n{}\".format(classification_report(y_test,y_pred)))"
   ]
  },
  {
   "cell_type": "markdown",
   "id": "ea4c9708",
   "metadata": {},
   "source": [
    "## Hyperparameter Tuning on SVM"
   ]
  },
  {
   "cell_type": "code",
   "execution_count": null,
   "id": "d0760da2",
   "metadata": {},
   "outputs": [],
   "source": [
    "from sklearn.svm import SVC"
   ]
  },
  {
   "cell_type": "code",
   "execution_count": null,
   "id": "851690d4",
   "metadata": {},
   "outputs": [],
   "source": [
    "param_grid = {\n",
    "    'kernel' : ['linear', 'poly', 'rbf', 'sigmoid'],\n",
    "    'random_state' : [42, None],\n",
    "    'gamma' : ['scale', 'auto'],\n",
    "    'shrinking' : [True, False],\n",
    "    'probability' : [True, False],\n",
    "    'break_ties' : [True, False]\n",
    "}"
   ]
  },
  {
   "cell_type": "code",
   "execution_count": null,
   "id": "e8f1f057",
   "metadata": {},
   "outputs": [],
   "source": [
    "svc_grid = SVC()\n",
    "grid_search_svc = GridSearchCV(estimator=svc_grid,param_grid=param_grid,cv=10,n_jobs=-1,verbose=2)\n",
    "grid_search_svc.fit(X_train,y_train)"
   ]
  },
  {
   "cell_type": "code",
   "execution_count": null,
   "id": "530cd6de",
   "metadata": {},
   "outputs": [],
   "source": [
    "best_grid_svc = grid_search_svc.best_estimator_\n",
    "best_grid_svc"
   ]
  },
  {
   "cell_type": "code",
   "execution_count": null,
   "id": "8467dcd9",
   "metadata": {},
   "outputs": [],
   "source": [
    "# Applying the best grid for SVC\n",
    "best_grid_svc.fit(X_train, y_train)"
   ]
  },
  {
   "cell_type": "markdown",
   "id": "c35247bd",
   "metadata": {},
   "source": [
    "### Train Set"
   ]
  },
  {
   "cell_type": "code",
   "execution_count": null,
   "id": "44f59df0",
   "metadata": {},
   "outputs": [],
   "source": [
    "y_pred=best_grid_svc.predict(X_train)\n",
    "print(confusion_matrix(y_train,y_pred))\n",
    "skplt.metrics.plot_confusion_matrix(y_train, y_pred);\n",
    "save_fig('Train Set Confusion Matrix for SVM hyper-para tuned q3')\n",
    "print(\"Accuracy Score {}\".format(accuracy_score(y_train,y_pred)))\n",
    "print(\"Classification report: \\n{}\".format(classification_report(y_train,y_pred)))"
   ]
  },
  {
   "cell_type": "markdown",
   "id": "aed54f30",
   "metadata": {},
   "source": [
    "### Test Set"
   ]
  },
  {
   "cell_type": "code",
   "execution_count": null,
   "id": "c6eb59bb",
   "metadata": {},
   "outputs": [],
   "source": [
    "\n",
    "y_pred=best_grid_svc.predict(X_test)\n",
    "print(confusion_matrix(y_test,y_pred))\n",
    "skplt.metrics.plot_confusion_matrix(y_test, y_pred);\n",
    "save_fig('Test Set Confusion Matrix for SVC hyper-para tuned q3')\n",
    "print(\"Accuracy Score {}\".format(accuracy_score(y_test,y_pred)))\n",
    "print(\"Classification report: \\n{}\".format(classification_report(y_test,y_pred)))"
   ]
  },
  {
   "cell_type": "markdown",
   "id": "e9a4dd34",
   "metadata": {},
   "source": [
    "## Hyperparameter Tuning on Multinomial Naive Bayes"
   ]
  },
  {
   "cell_type": "code",
   "execution_count": null,
   "id": "2f4c6d97",
   "metadata": {},
   "outputs": [],
   "source": [
    "from  sklearn.naive_bayes import MultinomialNB"
   ]
  },
  {
   "cell_type": "code",
   "execution_count": null,
   "id": "bf418e5a",
   "metadata": {},
   "outputs": [],
   "source": [
    "param_grid = {\n",
    "    'alpha': [0.01, 0.1, 0.5, 1.0, 10.0, ],\n",
    "    'fit_prior': [True, False]\n",
    "}"
   ]
  },
  {
   "cell_type": "code",
   "execution_count": null,
   "id": "21403e7c",
   "metadata": {},
   "outputs": [],
   "source": [
    "nb_grid = MultinomialNB()\n",
    "grid_search_nb = GridSearchCV(estimator=nb_grid,param_grid=param_grid,cv=10,n_jobs=-1,verbose=2)\n",
    "grid_search_nb.fit(X_train,y_train)"
   ]
  },
  {
   "cell_type": "code",
   "execution_count": null,
   "id": "cf380a8c",
   "metadata": {},
   "outputs": [],
   "source": [
    "best_grid_nb = grid_search_nb.best_estimator_\n",
    "best_grid_nb"
   ]
  },
  {
   "cell_type": "code",
   "execution_count": null,
   "id": "2850e629",
   "metadata": {},
   "outputs": [],
   "source": [
    "# Applying the best grid for Multinomial Naive Bayes\n",
    "best_grid_nb.fit(X_train, y_train)"
   ]
  },
  {
   "cell_type": "markdown",
   "id": "0d1d089f",
   "metadata": {},
   "source": [
    "### Train Set"
   ]
  },
  {
   "cell_type": "code",
   "execution_count": null,
   "id": "5ba1f577",
   "metadata": {},
   "outputs": [],
   "source": [
    "y_pred=best_grid_nb.predict(X_train)\n",
    "print(confusion_matrix(y_train,y_pred))\n",
    "skplt.metrics.plot_confusion_matrix(y_train, y_pred);\n",
    "save_fig('Train Set Confusion Matrix for Multinomial NB hyper-para tuned q3')\n",
    "print(\"Accuracy Score {}\".format(accuracy_score(y_train,y_pred)))\n",
    "print(\"Classification report: \\n{}\".format(classification_report(y_train,y_pred)))"
   ]
  },
  {
   "cell_type": "markdown",
   "id": "10a34415",
   "metadata": {},
   "source": [
    "### Test Set"
   ]
  },
  {
   "cell_type": "code",
   "execution_count": null,
   "id": "11a3924b",
   "metadata": {},
   "outputs": [],
   "source": [
    "y_pred=best_grid_nb.predict(X_test)\n",
    "print(confusion_matrix(y_test,y_pred))\n",
    "skplt.metrics.plot_confusion_matrix(y_test, y_pred);\n",
    "save_fig('Test Set Confusion Matrix for MultinomialNB hyper-para tuned q3')\n",
    "print(\"Accuracy Score {}\".format(accuracy_score(y_test,y_pred)))\n",
    "print(\"Classification report: \\n{}\".format(classification_report(y_test,y_pred)))"
   ]
  },
  {
   "cell_type": "markdown",
   "id": "f4d42645",
   "metadata": {},
   "source": [
    "## Ensemble Learning"
   ]
  },
  {
   "cell_type": "code",
   "execution_count": null,
   "id": "b5f4b567",
   "metadata": {},
   "outputs": [],
   "source": [
    "import matplotlib.pyplot as plt\n",
    "\n",
    "plt.rc('font', size=14)\n",
    "plt.rc('axes', labelsize=14, titlesize=14)\n",
    "plt.rc('legend', fontsize=14)\n",
    "plt.rc('xtick', labelsize=10)\n",
    "plt.rc('ytick', labelsize=10)"
   ]
  },
  {
   "cell_type": "markdown",
   "id": "46501b10",
   "metadata": {},
   "source": [
    "## Hard Voting classifier"
   ]
  },
  {
   "cell_type": "code",
   "execution_count": null,
   "id": "c3f89bd4",
   "metadata": {},
   "outputs": [],
   "source": [
    "from sklearn.ensemble import RandomForestClassifier, VotingClassifier\n",
    "from sklearn.linear_model import LogisticRegression\n",
    "from sklearn.svm import SVC"
   ]
  },
  {
   "cell_type": "code",
   "execution_count": null,
   "id": "2139a492",
   "metadata": {},
   "outputs": [],
   "source": [
    "#log_clf = LogisticRegression(random_state=42)\n",
    "#rnd_clf = RandomForestClassifier(random_state=42)\n",
    "#svm_clf = SVC(random_state=42)\n",
    "hard_voting_clf = VotingClassifier(\n",
    "    estimators=[\n",
    "        ('knn', best_grid_knn),\n",
    "        ('dt', best_grid_dt),\n",
    "        ('lr', best_grid_lr),\n",
    "        ('rf', best_grid_rf),\n",
    "        ('svc', best_grid_svc),\n",
    "        ('nb', best_grid_nb)\n",
    "    ], \n",
    "    voting = 'hard'\n",
    ")\n",
    "hard_voting_clf.fit(X_train, y_train)"
   ]
  },
  {
   "cell_type": "code",
   "execution_count": null,
   "id": "3b9bd2a6",
   "metadata": {},
   "outputs": [],
   "source": [
    "from sklearn.metrics import accuracy_score\n",
    "for clf in [best_grid_knn, best_grid_dt, best_grid_lr, best_grid_rf, best_grid_svc, best_grid_nb, hard_voting_clf]:\n",
    "    clf.fit(X_train, y_train)\n",
    "    y_pred = clf.predict(X_test)\n",
    "    print(clf.__class__.__name__, accuracy_score(y_test, y_pred))"
   ]
  },
  {
   "cell_type": "markdown",
   "id": "4d132f39",
   "metadata": {},
   "source": [
    "### Train Set"
   ]
  },
  {
   "cell_type": "code",
   "execution_count": null,
   "id": "95a7ee0f",
   "metadata": {},
   "outputs": [],
   "source": [
    "skplt.metrics.plot_confusion_matrix(y_train, hard_voting_clf.predict(X_train));\n",
    "save_fig('Train Set Confusion Matrix for Ensemble Hard Voting q3')\n",
    "print(\"Accuracy Score {}\".format(accuracy_score(y_train, hard_voting_clf.predict(X_train))))\n",
    "print(\"Classification report: \\n{}\".format(classification_report(y_train, hard_voting_clf.predict(X_train))))"
   ]
  },
  {
   "cell_type": "markdown",
   "id": "19ca5d57",
   "metadata": {},
   "source": [
    "### Test Set"
   ]
  },
  {
   "cell_type": "code",
   "execution_count": null,
   "id": "4fd5d953",
   "metadata": {},
   "outputs": [],
   "source": [
    "skplt.metrics.plot_confusion_matrix(y_test, hard_voting_clf.predict(X_test));\n",
    "save_fig('Test Set Confusion Matrix for Ensemble Hard Voting q3')\n",
    "print(\"Accuracy Score {}\".format(accuracy_score(y_test, hard_voting_clf.predict(X_test))))\n",
    "print(\"Classification report: \\n{}\".format(classification_report(y_test, hard_voting_clf.predict(X_test))))"
   ]
  },
  {
   "cell_type": "markdown",
   "id": "95efe627",
   "metadata": {},
   "source": [
    "## Soft voting classifier"
   ]
  },
  {
   "cell_type": "code",
   "execution_count": null,
   "id": "721fc1cd",
   "metadata": {},
   "outputs": [],
   "source": [
    "soft_voting_clf = VotingClassifier(\n",
    "    estimators=[\n",
    "        ('knn', best_grid_knn),\n",
    "        ('dt', best_grid_dt),\n",
    "        ('lr', best_grid_lr),\n",
    "        ('rf', best_grid_rf),\n",
    "        ('svc', best_grid_svc),\n",
    "        ('nb', best_grid_nb)\n",
    "    ], \n",
    "    voting = 'soft'\n",
    ")\n",
    "soft_voting_clf.fit(X_train, y_train)"
   ]
  },
  {
   "cell_type": "code",
   "execution_count": null,
   "id": "36f1c9ac",
   "metadata": {},
   "outputs": [],
   "source": [
    "from sklearn.metrics import accuracy_score\n",
    "for clf in [best_grid_knn, best_grid_dt, best_grid_lr, best_grid_rf, best_grid_svc, best_grid_nb, soft_voting_clf]:\n",
    "    clf.fit(X_train, y_train)\n",
    "    y_pred = clf.predict(X_test)\n",
    "    print(clf.__class__.__name__, accuracy_score(y_test, y_pred))"
   ]
  },
  {
   "cell_type": "markdown",
   "id": "a3baaebe",
   "metadata": {},
   "source": [
    "### Train Set"
   ]
  },
  {
   "cell_type": "code",
   "execution_count": null,
   "id": "578368d5",
   "metadata": {},
   "outputs": [],
   "source": [
    "skplt.metrics.plot_confusion_matrix(y_train, hard_voting_clf.predict(X_train));\n",
    "save_fig('Train Set Confusion Matrix for Ensemble Soft Voting q3')\n",
    "print(\"Accuracy Score {}\".format(accuracy_score(y_train, hard_voting_clf.predict(X_train))))\n",
    "print(\"Classification report: \\n{}\".format(classification_report(y_train, hard_voting_clf.predict(X_train))))"
   ]
  },
  {
   "cell_type": "markdown",
   "id": "e5283580",
   "metadata": {},
   "source": [
    "### Test Set"
   ]
  },
  {
   "cell_type": "code",
   "execution_count": null,
   "id": "39808d2a",
   "metadata": {},
   "outputs": [],
   "source": [
    "skplt.metrics.plot_confusion_matrix(y_test, soft_voting_clf.predict(X_test));\n",
    "save_fig('Test Set Confusion Matrix for Ensemble Soft Voting q3')\n",
    "print(\"Accuracy Score {}\".format(accuracy_score(y_test, soft_voting_clf.predict(X_test))))\n",
    "print(\"Classification report: \\n{}\".format(classification_report(y_test, soft_voting_clf.predict(X_test))))"
   ]
  },
  {
   "cell_type": "markdown",
   "id": "136053f2",
   "metadata": {},
   "source": [
    "## bagging and pasting"
   ]
  },
  {
   "cell_type": "code",
   "execution_count": null,
   "id": "e396fd14",
   "metadata": {},
   "outputs": [],
   "source": [
    "from sklearn.ensemble import BaggingClassifier\n",
    "from sklearn.tree import DecisionTreeClassifier\n",
    "\n",
    "bag_clf = BaggingClassifier(DecisionTreeClassifier(), n_estimators=500,\n",
    "                            max_samples=100, n_jobs=-1, random_state=42)\n",
    "bag_clf.fit(X_train, y_train)\n"
   ]
  },
  {
   "cell_type": "markdown",
   "id": "adf5a9cc",
   "metadata": {},
   "source": [
    "## out of bag evaluation"
   ]
  },
  {
   "cell_type": "code",
   "execution_count": null,
   "id": "f00cf342",
   "metadata": {},
   "outputs": [],
   "source": [
    "bag_clf = BaggingClassifier(DecisionTreeClassifier(), n_estimators=500,\n",
    "                            oob_score=True, n_jobs=-1, random_state=42)\n",
    "bag_clf.fit(X_train, y_train)\n",
    "print('OOB Score', bag_clf.oob_score_)\n",
    "\n",
    "y_pred = bag_clf.predict(X_test)\n",
    "print('Test Accuracy', accuracy_score(y_test, y_pred))\n",
    "print('Train Accuracy', accuracy_score(y_train, bag_clf.predict(X_train)))"
   ]
  },
  {
   "cell_type": "code",
   "execution_count": null,
   "id": "c22f663a",
   "metadata": {},
   "outputs": [],
   "source": [
    "skplt.metrics.plot_confusion_matrix(y_test, bag_clf.predict(X_test));\n",
    "save_fig('Confusion Matrix for Out of bag q3')\n",
    "print(\"Accuracy Score {}\".format(accuracy_score(y_test, bag_clf.predict(X_test))))\n",
    "print(\"Classification report: \\n{}\".format(classification_report(y_test, bag_clf.predict(X_test))))"
   ]
  },
  {
   "cell_type": "code",
   "execution_count": null,
   "id": "c9c9eff2",
   "metadata": {},
   "outputs": [],
   "source": [
    "skplt.metrics.plot_confusion_matrix(y_train, bag_clf.predict(X_train));\n",
    "save_fig('Confusion Matrix train for Out of bag q3')\n",
    "print(\"Accuracy Score {}\".format(accuracy_score(y_train, bag_clf.predict(X_train))))\n",
    "print(\"Classification report: \\n{}\".format(classification_report(y_train, bag_clf.predict(X_train))))"
   ]
  },
  {
   "cell_type": "markdown",
   "id": "86ccf674",
   "metadata": {},
   "source": [
    "## impact of no. of estimators"
   ]
  },
  {
   "cell_type": "code",
   "execution_count": null,
   "id": "de9f8c10",
   "metadata": {},
   "outputs": [],
   "source": [
    "import numpy as np\n",
    "est = range(50, 500, 50)\n",
    "train_acc = []\n",
    "test_acc = []\n",
    "oob_acc = []\n",
    "estim = []\n",
    "out = []\n",
    "for num_est in est:\n",
    "    estim.append(num_est)\n",
    "    rnd_clf = RandomForestClassifier(n_estimators=num_est, oob_score = True, \n",
    "                                     max_leaf_nodes=16, n_jobs=-1, \n",
    "                                     random_state=42)\n",
    "    rnd_clf.fit(X_train, y_train)\n",
    "    y_pred_rf = rnd_clf.predict(X_test)\n",
    "    train_acc.append(\n",
    "        accuracy_score(y_train, rnd_clf.predict(X_train)))\n",
    "    test_acc.append(\n",
    "        accuracy_score(y_test, rnd_clf.predict(X_test)))\n",
    "    oob_acc.append(rnd_clf.oob_score_)\n",
    "i = 0\n",
    "while i < len(estim):\n",
    "    print('Num of estimators: ', estim[i], ' train acc = ', train_acc[i],\n",
    "         ' test acc = ', test_acc[i], 'oob = ', oob_acc[i])\n",
    "    i = i + 1"
   ]
  },
  {
   "cell_type": "code",
   "execution_count": null,
   "id": "52c26543",
   "metadata": {},
   "outputs": [],
   "source": [
    "plt.figure(figsize = (9,7))\n",
    "plt.plot(estim, train_acc, label = 'Train Acc')\n",
    "plt.plot(estim, test_acc, label = 'Test Acc')\n",
    "plt.plot(estim, oob_acc, label = 'OOB Score')\n",
    "plt.legend()\n",
    "plt.xlabel('Number of Estimators')\n",
    "plt.ylabel('Accuracy')\n",
    "plt.title('Accuracy vs Number of Estimators')\n",
    "plt.show()"
   ]
  },
  {
   "cell_type": "markdown",
   "id": "c6a4ade5",
   "metadata": {},
   "source": [
    "## ADA boost classifier"
   ]
  },
  {
   "cell_type": "code",
   "execution_count": null,
   "id": "f82e0f72",
   "metadata": {},
   "outputs": [],
   "source": [
    "from sklearn.ensemble import AdaBoostClassifier\n",
    "\n",
    "ada_clf = AdaBoostClassifier(\n",
    "    DecisionTreeClassifier(max_depth=1), n_estimators=100,\n",
    "    learning_rate=0.5, random_state=42)\n",
    "ada_clf.fit(X_train, y_train)\n",
    "y_pred = ada_clf.predict(X_test)\n",
    "accuracy_score(y_test, y_pred)"
   ]
  },
  {
   "cell_type": "markdown",
   "id": "8d078ec3",
   "metadata": {},
   "source": [
    "### Train Set"
   ]
  },
  {
   "cell_type": "code",
   "execution_count": null,
   "id": "6f89086f",
   "metadata": {},
   "outputs": [],
   "source": [
    "skplt.metrics.plot_confusion_matrix(y_train, ada_clf.predict(X_train));\n",
    "save_fig('Train Set Confusion Matrix for AdaBoost q3')\n",
    "print(\"Accuracy Score {}\".format(accuracy_score(y_train, ada_clf.predict(X_train))))\n",
    "print(\"Classification report: \\n{}\".format(classification_report(y_train, ada_clf.predict(X_train))))"
   ]
  },
  {
   "cell_type": "code",
   "execution_count": null,
   "id": "2a14cbd0",
   "metadata": {},
   "outputs": [],
   "source": [
    "### Test Set"
   ]
  },
  {
   "cell_type": "code",
   "execution_count": null,
   "id": "9c943bfb",
   "metadata": {},
   "outputs": [],
   "source": [
    "skplt.metrics.plot_confusion_matrix(y_test, ada_clf.predict(X_test));\n",
    "save_fig('Test Set Confusion Matrix for AdaBoost q3')\n",
    "print(\"Accuracy Score {}\".format(accuracy_score(y_test, ada_clf.predict(X_test))))\n",
    "print(\"Classification report: \\n{}\".format(classification_report(y_test, ada_clf.predict(X_test))))"
   ]
  },
  {
   "cell_type": "code",
   "execution_count": null,
   "id": "0a6a9802",
   "metadata": {},
   "outputs": [],
   "source": [
    "import numpy as np\n",
    "est = np.linspace(1, 500, 2)\n",
    "train_acc = []\n",
    "test_acc = []\n",
    "num_learners = []\n",
    "for estimators in est:\n",
    "    ada_clf = AdaBoostClassifier(\n",
    "    DecisionTreeClassifier(max_depth=1), n_estimators=int(estimators),\n",
    "    learning_rate=0.5, random_state=42)\n",
    "    ada_clf.fit(X_train, y_train)\n",
    "    y_pred_test = ada_clf.predict(X_test)\n",
    "    y_pred_train = ada_clf.predict(X_train)\n",
    "    train_acc.append(accuracy_score(y_train, y_pred_train))\n",
    "    test_acc.append(accuracy_score(y_test, y_pred_test))\n",
    "    num_learners.append(estimators)"
   ]
  },
  {
   "cell_type": "code",
   "execution_count": null,
   "id": "0eee7dc7",
   "metadata": {},
   "outputs": [],
   "source": [
    "plt.figure(figsize = (9,7))\n",
    "plt.plot(num_learners, train_acc, label = 'Train Acc')\n",
    "plt.plot(num_learners, test_acc, label = 'Test Acc')\n",
    "plt.legend()\n",
    "plt.xlabel('Number of Estimators')\n",
    "plt.ylabel('Accuracy')\n",
    "plt.title('Accuracy vs Number of Estimators')\n",
    "plt.show()"
   ]
  },
  {
   "cell_type": "markdown",
   "id": "2658195a",
   "metadata": {},
   "source": [
    "## XGBoost"
   ]
  },
  {
   "cell_type": "code",
   "execution_count": null,
   "id": "6512da31",
   "metadata": {},
   "outputs": [],
   "source": [
    "import xgboost as xgb"
   ]
  },
  {
   "cell_type": "code",
   "execution_count": null,
   "id": "5bc3581f",
   "metadata": {
    "scrolled": true
   },
   "outputs": [],
   "source": [
    "xgb_cl = xgb.XGBClassifier()\n",
    "\n",
    "# Fit\n",
    "xgb_cl.fit(X_train, y_train)\n",
    "\n",
    "# Predict\n",
    "preds = xgb_cl.predict(X_test)\n",
    "\n",
    "# Score\n",
    "accuracy_score(y_test, preds)"
   ]
  },
  {
   "cell_type": "markdown",
   "id": "627954d1",
   "metadata": {},
   "source": [
    "### Train Set"
   ]
  },
  {
   "cell_type": "code",
   "execution_count": null,
   "id": "7074c69d",
   "metadata": {},
   "outputs": [],
   "source": [
    "skplt.metrics.plot_confusion_matrix(y_train, xgb_cl.predict(X_train));\n",
    "save_fig('Train Set Confusion Matrix for XGBoost q3')\n",
    "print(\"Accuracy Score {}\".format(accuracy_score(y_train, xgb_cl.predict(X_train))))\n",
    "print(\"Classification report: \\n{}\".format(classification_report(y_train, xgb_cl.predict(X_train))))"
   ]
  },
  {
   "cell_type": "markdown",
   "id": "0234c38f",
   "metadata": {},
   "source": [
    "### Test Set"
   ]
  },
  {
   "cell_type": "code",
   "execution_count": null,
   "id": "d74b0e2c",
   "metadata": {},
   "outputs": [],
   "source": [
    "skplt.metrics.plot_confusion_matrix(y_test, xgb_cl.predict(X_test));\n",
    "save_fig('Test Set Confusion Matrix for XGBoost q3')\n",
    "print(\"Accuracy Score {}\".format(accuracy_score(y_test, xgb_cl.predict(X_test))))\n",
    "print(\"Classification report: \\n{}\".format(classification_report(y_test, xgb_cl.predict(X_test))))"
   ]
  },
  {
   "cell_type": "markdown",
   "id": "0f61ccb0",
   "metadata": {},
   "source": [
    "## XAI using LIME"
   ]
  },
  {
   "cell_type": "code",
   "execution_count": null,
   "id": "aa6bb6f9",
   "metadata": {},
   "outputs": [],
   "source": [
    "#conda install -c conda-forge ds-lime"
   ]
  },
  {
   "cell_type": "code",
   "execution_count": null,
   "id": "ec29232d",
   "metadata": {},
   "outputs": [],
   "source": [
    "from lime.lime_tabular import LimeTabularExplainer"
   ]
  },
  {
   "cell_type": "code",
   "execution_count": null,
   "id": "55c354f3",
   "metadata": {},
   "outputs": [],
   "source": [
    "feature_names = X_train.columns.tolist()\n",
    "#X_train.columns.values.tolist()"
   ]
  },
  {
   "cell_type": "code",
   "execution_count": null,
   "id": "6bcf4f2c",
   "metadata": {},
   "outputs": [],
   "source": [
    "# Create a LimeTabularExplainer object\n",
    "explainer = LimeTabularExplainer(X_train.values, feature_names=feature_names, class_names=['low', 'high'])\n"
   ]
  },
  {
   "cell_type": "code",
   "execution_count": null,
   "id": "2c1a3597",
   "metadata": {},
   "outputs": [],
   "source": [
    "# Select a specific instance from the testing set for explanation\n",
    "instance_idx = 0\n",
    "instance = X_test.values[instance_idx]\n",
    "true_label = y_test[instance_idx]"
   ]
  },
  {
   "cell_type": "code",
   "execution_count": null,
   "id": "1f1d5ae6",
   "metadata": {},
   "outputs": [],
   "source": [
    "# Generate explanations using LIME\n",
    "#Since our accuracy is the highest for Out of Bag, we will be using OOB to interpret\n",
    "explanation_lime = explainer.explain_instance(instance, best_grid_rf.predict_proba, num_features=len(feature_names))\n"
   ]
  },
  {
   "cell_type": "code",
   "execution_count": null,
   "id": "88c50695",
   "metadata": {},
   "outputs": [],
   "source": [
    "# Print the true label and predicted probabilities\n",
    "print(\"True Label:\", true_label)\n",
    "print(\"Predicted Probabilities:\", best_grid_rf.predict_proba([instance]))\n",
    "\n"
   ]
  },
  {
   "cell_type": "code",
   "execution_count": null,
   "id": "e780437a",
   "metadata": {},
   "outputs": [],
   "source": [
    "# Print the top features and their weights in the LIME explanation\n",
    "print(\"LIME Explanation:\")\n",
    "for feature, weight in explanation_lime.as_list():\n",
    "    print(feature, weight)"
   ]
  },
  {
   "cell_type": "markdown",
   "id": "e80dfce0",
   "metadata": {},
   "source": [
    "### Feature Importance Plot"
   ]
  },
  {
   "cell_type": "code",
   "execution_count": null,
   "id": "f54ea651",
   "metadata": {},
   "outputs": [],
   "source": [
    "feature_importance = explanation_lime.as_list()\n"
   ]
  },
  {
   "cell_type": "code",
   "execution_count": null,
   "id": "86623384",
   "metadata": {},
   "outputs": [],
   "source": [
    "import matplotlib.pyplot as plt\n",
    "\n",
    "features, values = zip(*feature_importance)\n",
    "plt.barh(features, values)\n",
    "plt.xlabel('Importance')\n",
    "plt.ylabel('Features')\n",
    "plt.title('Feature Importance')\n",
    "plt.savefig('images/question 3/LIME Feature Importance q3.png')\n",
    "plt.show()"
   ]
  },
  {
   "cell_type": "markdown",
   "id": "9e51a6dc",
   "metadata": {},
   "source": [
    "### LIME Explanation Plot"
   ]
  },
  {
   "cell_type": "code",
   "execution_count": null,
   "id": "d7da40ff",
   "metadata": {},
   "outputs": [],
   "source": [
    "feature_contributions = explanation_lime.local_exp[1]"
   ]
  },
  {
   "cell_type": "code",
   "execution_count": null,
   "id": "9329801f",
   "metadata": {},
   "outputs": [],
   "source": [
    "import matplotlib.pyplot as plt\n",
    "\n",
    "features, contributions = zip(*feature_contributions)\n",
    "plt.barh(feature_names, contributions)\n",
    "plt.xlabel('Contribution')\n",
    "plt.ylabel('Features')\n",
    "plt.title('LIME Explanation')\n",
    "plt.savefig('images/question 3/LIME Explanation Graph q3.png')\n",
    "plt.show()"
   ]
  },
  {
   "cell_type": "markdown",
   "id": "f8fda445",
   "metadata": {},
   "source": [
    "## Explanation for class 1"
   ]
  },
  {
   "cell_type": "code",
   "execution_count": null,
   "id": "df1f681a",
   "metadata": {},
   "outputs": [],
   "source": [
    "import matplotlib.pyplot as plt\n",
    "print('Predicted: ',best_grid_rf.predict(X_test)[0])\n",
    "print('Actual: ', y_test[0])\n",
    "explanation_lime.show_in_notebook(show_table=True, show_all=False)\n",
    "explanation_lime.save_to_file('images/question 3/LIME Prediction Probability for class 1 q3.html')"
   ]
  },
  {
   "cell_type": "markdown",
   "id": "693b392b",
   "metadata": {},
   "source": [
    "### Explanation for class 0"
   ]
  },
  {
   "cell_type": "code",
   "execution_count": null,
   "id": "8cf60b03",
   "metadata": {},
   "outputs": [],
   "source": [
    "#Perform the explanation on the 8th instance in the test data\n",
    "explaination = explainer.explain_instance(X_test.iloc[8], best_grid_rf.predict_proba)\n",
    "\n",
    "# show the result of the model's explaination\n",
    "print('Predicted: ',best_grid_rf.predict(X_test)[8])\n",
    "print('Actual: ', y_test[8])\n",
    "explaination.show_in_notebook(show_table = True, show_all = False,)\n",
    "explaination.save_to_file('images/question 3/LIME Prediction Probability for class 0 q3.html')\n"
   ]
  },
  {
   "cell_type": "code",
   "execution_count": null,
   "id": "76cf2910",
   "metadata": {},
   "outputs": [],
   "source": [
    "pd.DataFrame({'y_test': y_test, 'y_pred': best_grid_rf.predict(X_test)}).head(10)"
   ]
  },
  {
   "cell_type": "markdown",
   "id": "28822dad",
   "metadata": {},
   "source": [
    "# SHAP"
   ]
  },
  {
   "cell_type": "code",
   "execution_count": null,
   "id": "6f92c808",
   "metadata": {},
   "outputs": [],
   "source": [
    "import shap\n",
    "import matplotlib.pyplot as plt\n",
    "\n",
    "#model = BaggingClassifier(base_estimator=DecisionTreeClassifier(), n_estimators=500, n_jobs=-1, oob_score=True, random_state=42)\n",
    "#model.fit(X_train,y_train)\n",
    "\n",
    "# Create a SHAP explainer\n",
    "#explainer = shap.KernelExplainer(model.predict_proba,X_train)  # Replace \"model\" with your trained model\n",
    "explainer = shap.Explainer(best_grid_rf)\n",
    "\n",
    "# Calculate SHAP values for the entire dataset\n",
    "shap_values = explainer.shap_values(X_train)  # Replace \"X\" with your input data\n",
    "\n",
    "# Select the desired instance for explanation (index 0 in this example)\n",
    "instance = X_train.iloc[0]  # Replace \"X\" with your input data\n",
    "\n",
    "# Calculate the SHAP values for the selected instance\n",
    "shap_values_instance = explainer.shap_values(instance)\n",
    "\n",
    "# Plot the SHAP summary plot\n",
    "#shap.summary_plot(shap_values, X_train)  # Replace \"X\" with your input data\n",
    "\n",
    "# Plot the SHAP values for the selected instance\n",
    "#shap.force_plot(explainer.expected_value, shap_values[0])\n",
    "\n",
    "# Save the figures\n",
    "#plt.savefig('images/shap_summary_plot.png', dpi=300)\n",
    "#shap.save_html('images/shap_force_plot.html', shap.force_plot(explainer.expected_value, shap_values_instance, instance))\n",
    "\n",
    "# Show the plots\n",
    "#plt.show()\n"
   ]
  },
  {
   "cell_type": "code",
   "execution_count": null,
   "id": "8d05a46e",
   "metadata": {
    "scrolled": true
   },
   "outputs": [],
   "source": [
    "from shap.plots import beeswarm\n",
    "beeswarm(explainer(X_train)[:,:,1],max_display=20)\n",
    "plt.savefig('images/question 3/beeswarm_plot.png',dpi=300, bbox_inches= 'tight')"
   ]
  },
  {
   "cell_type": "code",
   "execution_count": null,
   "id": "f90743a3",
   "metadata": {},
   "outputs": [],
   "source": [
    "pd.concat([X_test.loc[[190]],y_test.loc[[190]]], axis=1)"
   ]
  },
  {
   "cell_type": "code",
   "execution_count": null,
   "id": "431ce869",
   "metadata": {},
   "outputs": [],
   "source": [
    "# Calculate Shap values\n",
    "choosen_instance = X_test.loc[[190]]\n",
    "shap_values = explainer.shap_values(choosen_instance)\n",
    "shap.initjs()\n",
    "shap.force_plot(explainer.expected_value[1], shap_values[1], choosen_instance)"
   ]
  }
 ],
 "metadata": {
  "kernelspec": {
   "display_name": "Python 3 (ipykernel)",
   "language": "python",
   "name": "python3"
  },
  "language_info": {
   "codemirror_mode": {
    "name": "ipython",
    "version": 3
   },
   "file_extension": ".py",
   "mimetype": "text/x-python",
   "name": "python",
   "nbconvert_exporter": "python",
   "pygments_lexer": "ipython3",
   "version": "3.9.13"
  }
 },
 "nbformat": 4,
 "nbformat_minor": 5
}
